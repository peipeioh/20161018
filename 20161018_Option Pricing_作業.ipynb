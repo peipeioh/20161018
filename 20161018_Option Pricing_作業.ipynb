{
 "cells": [
  {
   "cell_type": "code",
   "execution_count": 59,
   "metadata": {
    "collapsed": true
   },
   "outputs": [],
   "source": [
    "# 20161018 Option Pricing 作業：把Call改成Put\n",
    "\n",
    "class Option_Pricing :\n",
    "    \n",
    "    # 初始化屬性\n",
    "    def __init__ (self, S0, K, T, r, Sigma, div = 0) :   \n",
    "        self.S0 = S0  \n",
    "        self.K = K \n",
    "        self.T = T  \n",
    "        self.r = r\n",
    "        self.Sigma = Sigma\n",
    "        self.div = div\n",
    "        \n",
    "    # 方法：Closed-form Solution (CF)  BS模型\n",
    "    def D1(self) :\n",
    "        from math import log, sqrt, exp\n",
    "        D1 = log(self.S0 / self.K) + (self.r + 0.5 * self.Sigma ** 2) * self.T / ( self.Sigma * sqrt(self.T) )\n",
    "        return (D1)\n",
    "        # print ('D1: ' + str(D1))\n",
    "        \n",
    "    def D2(self) :\n",
    "        from math import log, sqrt, exp\n",
    "        from scipy import stats\n",
    "        D1 = log(self.S0 / self.K) + (self.r + 0.5 * self.Sigma ** 2) * self.T / ( self.Sigma * sqrt(self.T) )\n",
    "        D2 = D1 - self.Sigma * sqrt(self.T)\n",
    "        return (D2)\n",
    "        # print ('D2: ' + str(D2))\n",
    "    \n",
    "    def BSM (self, type = 1) :  # 1 : 買權  0:賣權  \n",
    "        from math import log, sqrt, exp\n",
    "        from scipy import stats\n",
    "        # D1 = log(S0 / K) + (r + 0.5 * Sigma ** 2) * T / ( Sigma * sqrt(T) )\n",
    "        # D2 = D1 - Sigma * sqrt(T)\n",
    "        if type == 1 :\n",
    "            C0 = self.S0 * stats.norm.cdf(self.D1(), 0, 1) - self.K * exp(-self.r * self.T) * stats.norm.cdf(self.D2(), 0, 1)\n",
    "            self.display()\n",
    "            print('買權價格: %5.3f' % C0)\n",
    "        else :\n",
    "            P0 = self.K * exp(-self.r*self.T) * stats.norm.cdf(-self.D2(), 0, 1) - ( self.S0 * stats.norm.cdf(-self.D1(), 0, 1) )\n",
    "            self.display()\n",
    "            print('賣權價格: %5.3f' % P0)\n",
    "        \n",
    "    # 方法：Monte Carlo Simulation (MCS)  蒙地卡羅模擬法\n",
    "    def MCS (self, N=10000, type = 1) :  # 1 : 買權  0:賣權 \n",
    "        import numpy as np \n",
    "        from numpy import random, sqrt, exp, maximum, sum\n",
    "        z = random.standard_normal(N)\n",
    "        ST = self.S0 * exp ( (self.r - 0.5 * self.Sigma ** 2) * self.T + self.Sigma * sqrt(self.T) * z )\n",
    "        if type == 1 :\n",
    "            CT = maximum(ST - self.K, 0)\n",
    "            C0 = np.sum(np.exp(-self.r * self.T)* CT) / N\n",
    "            # print(CT)\n",
    "            self.display()\n",
    "            print('買權價格: %5.3f' % C0)\n",
    "            \n",
    "        else :\n",
    "            CT = np.maximum(self.K - ST, 0)\n",
    "            P0 = np.sum(np.exp(-self.r * self.T)* CT) / N\n",
    "            # print(CT)\n",
    "            self.display()\n",
    "            print('賣權價格: %5.10f' % P0)\n",
    "            \n",
    "\n",
    "    \n",
    "    # 方法：顯示計算結果\n",
    "    def display (self) :\n",
    "        print('標的價格：' + str(self.S0) + '\\n執行價格：' + str(self.K) + '\\nSigma:' + str(self.Sigma) + '\\n無風險利率：' + str(self.r) + '\\n期間：' + str(self.T) + '年')"
   ]
  },
  {
   "cell_type": "code",
   "execution_count": 60,
   "metadata": {
    "collapsed": true
   },
   "outputs": [],
   "source": [
    "S0 = 100\n",
    "K = 105\n",
    "T = 1\n",
    "r = 0.05\n",
    "Sigma = 0.2\n",
    "\n",
    "OP = Option_Pricing(S0, K, T, r, Sigma)"
   ]
  },
  {
   "cell_type": "code",
   "execution_count": 61,
   "metadata": {
    "collapsed": false
   },
   "outputs": [
    {
     "name": "stdout",
     "output_type": "stream",
     "text": [
      "D1: 0.301209835830568\n",
      "D2: 0.10120983583056797\n"
     ]
    }
   ],
   "source": [
    "print ('D1: ' + str(OP.D1()) + '\\nD2: ' + str(OP.D2()) )"
   ]
  },
  {
   "cell_type": "code",
   "execution_count": 65,
   "metadata": {
    "collapsed": false,
    "scrolled": true
   },
   "outputs": [
    {
     "name": "stdout",
     "output_type": "stream",
     "text": [
      "標的價格：100\n",
      "執行價格：105\n",
      "Sigma:0.2\n",
      "無風險利率：0.05\n",
      "期間：1年\n",
      "買權價格: 7.872\n"
     ]
    }
   ],
   "source": [
    "OP.BSM(1) # 1:買權"
   ]
  },
  {
   "cell_type": "code",
   "execution_count": 66,
   "metadata": {
    "collapsed": false
   },
   "outputs": [
    {
     "name": "stdout",
     "output_type": "stream",
     "text": [
      "標的價格：100\n",
      "執行價格：105\n",
      "Sigma:0.2\n",
      "無風險利率：0.05\n",
      "期間：1年\n",
      "賣權價格: 7.751\n"
     ]
    }
   ],
   "source": [
    "OP.BSM(0)  # 0:賣權"
   ]
  },
  {
   "cell_type": "code",
   "execution_count": 67,
   "metadata": {
    "collapsed": false
   },
   "outputs": [
    {
     "name": "stdout",
     "output_type": "stream",
     "text": [
      "標的價格：100\n",
      "執行價格：105\n",
      "Sigma:0.2\n",
      "無風險利率：0.05\n",
      "期間：1年\n",
      "賣權價格: 7.8805029681\n"
     ]
    }
   ],
   "source": [
    "OP.MCS (N = 100000, type = 0)    # 假設 N = 100000 , type=1 : 買權 , type=0 : 賣權"
   ]
  },
  {
   "cell_type": "code",
   "execution_count": 68,
   "metadata": {
    "collapsed": false
   },
   "outputs": [
    {
     "name": "stdout",
     "output_type": "stream",
     "text": [
      "標的價格：100\n",
      "執行價格：105\n",
      "Sigma:0.2\n",
      "無風險利率：0.05\n",
      "期間：1年\n",
      "買權價格: 8.069\n"
     ]
    }
   ],
   "source": [
    "OP.MCS (N = 100000, type = 1)"
   ]
  },
  {
   "cell_type": "code",
   "execution_count": null,
   "metadata": {
    "collapsed": true
   },
   "outputs": [],
   "source": []
  },
  {
   "cell_type": "code",
   "execution_count": null,
   "metadata": {
    "collapsed": true
   },
   "outputs": [],
   "source": []
  }
 ],
 "metadata": {
  "anaconda-cloud": {},
  "kernelspec": {
   "display_name": "Python [Root]",
   "language": "python",
   "name": "Python [Root]"
  },
  "language_info": {
   "codemirror_mode": {
    "name": "ipython",
    "version": 3
   },
   "file_extension": ".py",
   "mimetype": "text/x-python",
   "name": "python",
   "nbconvert_exporter": "python",
   "pygments_lexer": "ipython3",
   "version": "3.5.2"
  }
 },
 "nbformat": 4,
 "nbformat_minor": 0
}
